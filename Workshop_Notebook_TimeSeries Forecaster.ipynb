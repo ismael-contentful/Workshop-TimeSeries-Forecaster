{
 "cells": [
  {
   "cell_type": "markdown",
   "metadata": {},
   "source": [
    "# TimeSeries Forecasting @Datalift Conference Workshop in Berlin - Elia Group"
   ]
  },
  {
   "cell_type": "markdown",
   "metadata": {},
   "source": [
    "created by the Center of Excellence AI Elia Group (Christian Merz, Thomas Craessaerts, Raphael Croegaert, Rachel Berryman)  \n",
    "\n",
    "Link to the app: https://share.streamlit.io/chris-elia/ts-forecast/main/main.py  \n",
    "\n",
    "\n",
    "Contact: Artificialintelligence@eliagroup.eu"
   ]
  },
  {
   "cell_type": "markdown",
   "metadata": {},
   "source": [
    "### Agenda ###\n",
    "0. (**Set-up environment**)\n",
    "\n",
    "1. **Exploring the data**  🔍  \n",
    " 1.1. Elia Open Data (Total Load, PV and Wind production)  \n",
    " 1.2 Rebase API Weather Forecast  \n",
    " 1.3 Quick Visualization of the Data  \n",
    " \n",
    "1. **Time Series forecasting with Prophet** 📈   \n",
    " 2.1 Univariate Forecasting  \n",
    " 2.2 Multivariate Forecasting  \n",
    "\n",
    "3. **Putting everything together in a Web App with Streamlit** 🚀  \n",
    "   3.1   Layout & Functionalities  \n",
    "   3.2 Streamlit Cloud Deployment\n",
    "\n"
   ]
  },
  {
   "cell_type": "markdown",
   "metadata": {},
   "source": [
    "<img src=\"./data/Architecture_Layout.png\" alt=\"Drawing\" style=\"width: 1000px;\"/>"
   ]
  },
  {
   "cell_type": "markdown",
   "metadata": {},
   "source": [
    "### 0. Set-up dependencies\n",
    "\n",
    "To run this notebook and the forecasting app, you need certain dependencies.  \n",
    "To make it as simple as possible, everything is wrapped up in a conda environment file.\n",
    "Therefore run the two following commands in command line:\n",
    "- **conda env create -f environment.yml**\n",
    "- **conda activate conda_timeseries_forecaster**\n",
    "\n",
    "The first one will install the python version with the required packages. The second command will activate the conda environment.  \n",
    "\n",
    "\n",
    "\n",
    "**Python Version**\n",
    "- Python: 3.8.13\n",
    "   \n",
    "**Required packages**\n",
    "- pip install streamlit\n",
    "- pip install pystan==2.19.1.1\n",
    "- conda install prophet\n",
    "\n"
   ]
  },
  {
   "cell_type": "markdown",
   "metadata": {},
   "source": [
    "###     1. Exploring the data from the Elia OpenData Platform 🔍 \n"
   ]
  },
  {
   "cell_type": "markdown",
   "metadata": {},
   "source": [
    "https://opendata.elia.be/pages/home/ \n",
    "\n",
    "    \n",
    "https://api.rebase.energy/weather/docs/v2/\n",
    "\n",
    "https://realto.io/api-marketplace/"
   ]
  },
  {
   "cell_type": "markdown",
   "metadata": {},
   "source": [
    "#### 1.1. Elia Open DataAPI"
   ]
  },
  {
   "cell_type": "markdown",
   "metadata": {},
   "source": [
    "**Total Load:** https://opendata.elia.be/explore/dataset/ods003/api/\n",
    "\n",
    "**PV production:** https://opendata.elia.be/explore/dataset/ods032/api\n",
    "\n",
    "**Wind production:** https://opendata.elia.be/explore/dataset/ods031/api\n"
   ]
  },
  {
   "cell_type": "code",
   "execution_count": 2,
   "metadata": {},
   "outputs": [],
   "source": [
    "#### Import of the neccessary libraries ###\n",
    "import requests\n",
    "import pandas as pd\n",
    "\n",
    "def get_open_data_elia_df(dataset, start_date, end_date):\n",
    "    \"\"\"Gets and returns the selected dataset from the Elia Open Data Platform within a given time range\n",
    "\n",
    "    Parameters\n",
    "    ----------\n",
    "    dataset: str\n",
    "        the selected dataset identifier from the Elia Open Data Platform\n",
    "    start_date: str\n",
    "        The start date of the selected dataset, Format: \"YYYY-MM-DD\"\n",
    "    end_date: str\n",
    "        The end date of the selected dataset, Format: \"YYYY-MM-DD\"    \n",
    "    \n",
    "\n",
    "    Returns\n",
    "    -------\n",
    "    pd.Dataframe\n",
    "        a dataframe containing the selected data\n",
    "    \n",
    "    \"\"\"\n",
    "\n",
    "    url = f\"https://opendata.elia.be/api/v2/catalog/datasets/{dataset}/exports/\"\n",
    "    json_string = f\"json?where=datetime in [date'{start_date}' .. date'{end_date}']\"\n",
    "    \n",
    "    response = requests.get(url = url + json_string)\n",
    "\n",
    "    # calling the Elia Open Data API\n",
    "    df = pd.DataFrame(response.json())\n",
    "    \n",
    "    df.sort_values(by = \"datetime\", inplace = True)\n",
    "    df.reset_index(inplace = True, drop =  True)    \n",
    "    df[\"datetime\"] = pd.to_datetime(df[\"datetime\"]).dt.tz_localize(None)\n",
    "\n",
    "    return df\n",
    "\n"
   ]
  },
  {
   "cell_type": "code",
   "execution_count": 4,
   "metadata": {},
   "outputs": [
    {
     "data": {
      "text/html": [
       "<div>\n",
       "<style scoped>\n",
       "    .dataframe tbody tr th:only-of-type {\n",
       "        vertical-align: middle;\n",
       "    }\n",
       "\n",
       "    .dataframe tbody tr th {\n",
       "        vertical-align: top;\n",
       "    }\n",
       "\n",
       "    .dataframe thead th {\n",
       "        text-align: right;\n",
       "    }\n",
       "</style>\n",
       "<table border=\"1\" class=\"dataframe\">\n",
       "  <thead>\n",
       "    <tr style=\"text-align: right;\">\n",
       "      <th></th>\n",
       "      <th>datetime</th>\n",
       "      <th>resolutioncode</th>\n",
       "      <th>eliagridload</th>\n",
       "    </tr>\n",
       "  </thead>\n",
       "  <tbody>\n",
       "    <tr>\n",
       "      <th>0</th>\n",
       "      <td>2022-06-22 00:00:00</td>\n",
       "      <td>PT15M</td>\n",
       "      <td>6705.379</td>\n",
       "    </tr>\n",
       "    <tr>\n",
       "      <th>1</th>\n",
       "      <td>2022-06-22 00:15:00</td>\n",
       "      <td>PT15M</td>\n",
       "      <td>6621.776</td>\n",
       "    </tr>\n",
       "    <tr>\n",
       "      <th>2</th>\n",
       "      <td>2022-06-22 00:30:00</td>\n",
       "      <td>PT15M</td>\n",
       "      <td>6690.901</td>\n",
       "    </tr>\n",
       "    <tr>\n",
       "      <th>3</th>\n",
       "      <td>2022-06-22 00:45:00</td>\n",
       "      <td>PT15M</td>\n",
       "      <td>6495.987</td>\n",
       "    </tr>\n",
       "    <tr>\n",
       "      <th>4</th>\n",
       "      <td>2022-06-22 01:00:00</td>\n",
       "      <td>PT15M</td>\n",
       "      <td>6579.402</td>\n",
       "    </tr>\n",
       "    <tr>\n",
       "      <th>...</th>\n",
       "      <td>...</td>\n",
       "      <td>...</td>\n",
       "      <td>...</td>\n",
       "    </tr>\n",
       "    <tr>\n",
       "      <th>187</th>\n",
       "      <td>2022-06-23 22:45:00</td>\n",
       "      <td>PT15M</td>\n",
       "      <td>7888.066</td>\n",
       "    </tr>\n",
       "    <tr>\n",
       "      <th>188</th>\n",
       "      <td>2022-06-23 23:00:00</td>\n",
       "      <td>PT15M</td>\n",
       "      <td>7916.368</td>\n",
       "    </tr>\n",
       "    <tr>\n",
       "      <th>189</th>\n",
       "      <td>2022-06-23 23:15:00</td>\n",
       "      <td>PT15M</td>\n",
       "      <td>7748.654</td>\n",
       "    </tr>\n",
       "    <tr>\n",
       "      <th>190</th>\n",
       "      <td>2022-06-23 23:30:00</td>\n",
       "      <td>PT15M</td>\n",
       "      <td>7798.687</td>\n",
       "    </tr>\n",
       "    <tr>\n",
       "      <th>191</th>\n",
       "      <td>2022-06-23 23:45:00</td>\n",
       "      <td>PT15M</td>\n",
       "      <td>7670.890</td>\n",
       "    </tr>\n",
       "  </tbody>\n",
       "</table>\n",
       "<p>192 rows × 3 columns</p>\n",
       "</div>"
      ],
      "text/plain": [
       "               datetime resolutioncode  eliagridload\n",
       "0   2022-06-22 00:00:00          PT15M      6705.379\n",
       "1   2022-06-22 00:15:00          PT15M      6621.776\n",
       "2   2022-06-22 00:30:00          PT15M      6690.901\n",
       "3   2022-06-22 00:45:00          PT15M      6495.987\n",
       "4   2022-06-22 01:00:00          PT15M      6579.402\n",
       "..                  ...            ...           ...\n",
       "187 2022-06-23 22:45:00          PT15M      7888.066\n",
       "188 2022-06-23 23:00:00          PT15M      7916.368\n",
       "189 2022-06-23 23:15:00          PT15M      7748.654\n",
       "190 2022-06-23 23:30:00          PT15M      7798.687\n",
       "191 2022-06-23 23:45:00          PT15M      7670.890\n",
       "\n",
       "[192 rows x 3 columns]"
      ]
     },
     "execution_count": 4,
     "metadata": {},
     "output_type": "execute_result"
    }
   ],
   "source": [
    "get_open_data_elia_df('ods003', '2022-06-22', '2022-06-23')"
   ]
  },
  {
   "cell_type": "markdown",
   "metadata": {},
   "source": [
    "**Test the Open Data Function**"
   ]
  },
  {
   "cell_type": "code",
   "execution_count": 6,
   "metadata": {},
   "outputs": [
    {
     "data": {
      "text/html": [
       "<div>\n",
       "<style scoped>\n",
       "    .dataframe tbody tr th:only-of-type {\n",
       "        vertical-align: middle;\n",
       "    }\n",
       "\n",
       "    .dataframe tbody tr th {\n",
       "        vertical-align: top;\n",
       "    }\n",
       "\n",
       "    .dataframe thead th {\n",
       "        text-align: right;\n",
       "    }\n",
       "</style>\n",
       "<table border=\"1\" class=\"dataframe\">\n",
       "  <thead>\n",
       "    <tr style=\"text-align: right;\">\n",
       "      <th></th>\n",
       "      <th>datetime</th>\n",
       "      <th>resolutioncode</th>\n",
       "      <th>eliagridload</th>\n",
       "    </tr>\n",
       "  </thead>\n",
       "  <tbody>\n",
       "    <tr>\n",
       "      <th>0</th>\n",
       "      <td>2022-06-22 00:00:00</td>\n",
       "      <td>PT15M</td>\n",
       "      <td>6705.379</td>\n",
       "    </tr>\n",
       "    <tr>\n",
       "      <th>1</th>\n",
       "      <td>2022-06-22 00:15:00</td>\n",
       "      <td>PT15M</td>\n",
       "      <td>6621.776</td>\n",
       "    </tr>\n",
       "    <tr>\n",
       "      <th>2</th>\n",
       "      <td>2022-06-22 00:30:00</td>\n",
       "      <td>PT15M</td>\n",
       "      <td>6690.901</td>\n",
       "    </tr>\n",
       "    <tr>\n",
       "      <th>3</th>\n",
       "      <td>2022-06-22 00:45:00</td>\n",
       "      <td>PT15M</td>\n",
       "      <td>6495.987</td>\n",
       "    </tr>\n",
       "    <tr>\n",
       "      <th>4</th>\n",
       "      <td>2022-06-22 01:00:00</td>\n",
       "      <td>PT15M</td>\n",
       "      <td>6579.402</td>\n",
       "    </tr>\n",
       "  </tbody>\n",
       "</table>\n",
       "</div>"
      ],
      "text/plain": [
       "             datetime resolutioncode  eliagridload\n",
       "0 2022-06-22 00:00:00          PT15M      6705.379\n",
       "1 2022-06-22 00:15:00          PT15M      6621.776\n",
       "2 2022-06-22 00:30:00          PT15M      6690.901\n",
       "3 2022-06-22 00:45:00          PT15M      6495.987\n",
       "4 2022-06-22 01:00:00          PT15M      6579.402"
      ]
     },
     "execution_count": 6,
     "metadata": {},
     "output_type": "execute_result"
    }
   ],
   "source": [
    "dataset = \"ods003\"\n",
    "start_date = \"2022-06-22\"\n",
    "end_date = \"2022-06-23\"\n",
    "df_open_data = get_open_data_elia_df(dataset, start_date , end_date )\n",
    "df_open_data.head()"
   ]
  },
  {
   "cell_type": "markdown",
   "metadata": {},
   "source": [
    "#### 1.2 Rebase Weather Forecast"
   ]
  },
  {
   "cell_type": "code",
   "execution_count": 7,
   "metadata": {},
   "outputs": [],
   "source": [
    "def get_weather_forecast(start_date, end_date, latitude, longitude):\n",
    "    \n",
    "    secret = \"W-cRKEYdwzL6mdWCYO2_UZSOWI1MxET07dquSY9Fck4\"\n",
    "    \"\"\"\n",
    "    Gets and returns the weather forecast from rebase within a given time range\n",
    "\n",
    "    Parameters\n",
    "    ----------\n",
    "    start_date: str\n",
    "        The start date of the selected dataset, Format: \"YYYY-MM-DD\"\n",
    "    end_date: str\n",
    "        The end date of the selected dataset, Format: \"YYYY-MM-DD\"\n",
    "    latitude: str\n",
    "        The latitude value (Geo location) of the city for the weather forecast\n",
    "    longitude: str\n",
    "        The longitude value (Geo location) of the city for the weather forecast\n",
    "\n",
    "    Returns\n",
    "    -------\n",
    "    pd.Dataframe\n",
    "        a dataframe containing the selected data\n",
    "    \n",
    "    \"\"\"\n",
    "\n",
    "    start_date = pd.to_datetime(start_date)\n",
    "    end_date = pd.to_datetime(end_date)\n",
    "\n",
    "    # Authentication\n",
    "    url = \"https://api.rebase.energy/weather/v2/query\"\n",
    "    headers = {\"Authorization\": secret } ## to be changed to st.secrets[\"REBASE_KEY\"]\n",
    "    params = {\n",
    "        'model': 'FMI_HIRLAM',\n",
    "        'start-date': start_date,\n",
    "        'end-date': end_date,\n",
    "        'reference-time-freq': '24H',\n",
    "        'forecast-horizon': 'latest',\n",
    "        'latitude': latitude,\n",
    "        'longitude': longitude,\n",
    "        'variables': 'Temperature, WindSpeed, SolarDownwardRadiation'\n",
    "    }\n",
    "    response = requests.get(url, headers=headers, params=params)\n",
    "\n",
    "    # Clean data\n",
    "    df = pd.DataFrame(response.json())\n",
    "    df = df.drop('ref_datetime', axis=1)\n",
    "    df[\"valid_datetime\"] = pd.to_datetime(df[\"valid_datetime\"]).dt.tz_localize(None)\n",
    "\n",
    "    df = df.rename(columns={'valid_datetime': 'datetime'})\n",
    "    df = df.drop_duplicates(keep='last')\n",
    "    df = df.fillna(0)\n",
    "\n",
    "    return df\n",
    "  \n"
   ]
  },
  {
   "cell_type": "markdown",
   "metadata": {},
   "source": [
    "**Test Weather Forecast Rebase** "
   ]
  },
  {
   "cell_type": "code",
   "execution_count": 8,
   "metadata": {},
   "outputs": [
    {
     "data": {
      "text/html": [
       "<div>\n",
       "<style scoped>\n",
       "    .dataframe tbody tr th:only-of-type {\n",
       "        vertical-align: middle;\n",
       "    }\n",
       "\n",
       "    .dataframe tbody tr th {\n",
       "        vertical-align: top;\n",
       "    }\n",
       "\n",
       "    .dataframe thead th {\n",
       "        text-align: right;\n",
       "    }\n",
       "</style>\n",
       "<table border=\"1\" class=\"dataframe\">\n",
       "  <thead>\n",
       "    <tr style=\"text-align: right;\">\n",
       "      <th></th>\n",
       "      <th>datetime</th>\n",
       "      <th>SolarDownwardRadiation</th>\n",
       "      <th>Temperature</th>\n",
       "      <th>WindSpeed</th>\n",
       "    </tr>\n",
       "  </thead>\n",
       "  <tbody>\n",
       "    <tr>\n",
       "      <th>0</th>\n",
       "      <td>2022-06-03 00:00:00</td>\n",
       "      <td>0.00</td>\n",
       "      <td>12.96</td>\n",
       "      <td>4.21</td>\n",
       "    </tr>\n",
       "    <tr>\n",
       "      <th>1</th>\n",
       "      <td>2022-06-03 01:00:00</td>\n",
       "      <td>0.00</td>\n",
       "      <td>12.29</td>\n",
       "      <td>3.54</td>\n",
       "    </tr>\n",
       "    <tr>\n",
       "      <th>2</th>\n",
       "      <td>2022-06-03 02:00:00</td>\n",
       "      <td>0.00</td>\n",
       "      <td>11.08</td>\n",
       "      <td>2.92</td>\n",
       "    </tr>\n",
       "    <tr>\n",
       "      <th>3</th>\n",
       "      <td>2022-06-03 03:00:00</td>\n",
       "      <td>0.00</td>\n",
       "      <td>10.02</td>\n",
       "      <td>2.76</td>\n",
       "    </tr>\n",
       "    <tr>\n",
       "      <th>4</th>\n",
       "      <td>2022-06-03 04:00:00</td>\n",
       "      <td>3.41</td>\n",
       "      <td>9.23</td>\n",
       "      <td>2.55</td>\n",
       "    </tr>\n",
       "  </tbody>\n",
       "</table>\n",
       "</div>"
      ],
      "text/plain": [
       "             datetime  SolarDownwardRadiation  Temperature  WindSpeed\n",
       "0 2022-06-03 00:00:00                    0.00        12.96       4.21\n",
       "1 2022-06-03 01:00:00                    0.00        12.29       3.54\n",
       "2 2022-06-03 02:00:00                    0.00        11.08       2.92\n",
       "3 2022-06-03 03:00:00                    0.00        10.02       2.76\n",
       "4 2022-06-03 04:00:00                    3.41         9.23       2.55"
      ]
     },
     "execution_count": 8,
     "metadata": {},
     "output_type": "execute_result"
    }
   ],
   "source": [
    "start_date = \"2022-06-03\"\n",
    "end_date = \"2022-06-05\"\n",
    "latitude = \"50.85045\"\n",
    "longitude = \"4.34878\"\n",
    "df_weather = get_weather_forecast(start_date, end_date, latitude, longitude)\n",
    "\n",
    "df_weather.head()"
   ]
  },
  {
   "cell_type": "markdown",
   "metadata": {},
   "source": [
    "### 1.3 Quick Visualization of the Data"
   ]
  },
  {
   "cell_type": "code",
   "execution_count": 9,
   "metadata": {},
   "outputs": [
    {
     "data": {
      "text/plain": [
       "<AxesSubplot:title={'center':'Total Load in the Elia Grid'}, xlabel='Time', ylabel='MW'>"
      ]
     },
     "execution_count": 9,
     "metadata": {},
     "output_type": "execute_result"
    },
    {
     "data": {
      "image/png": "[encoded data removed]",
      "text/plain": [
       "<Figure size 432x288 with 1 Axes>"
      ]
     },
     "metadata": {
      "needs_background": "light"
     },
     "output_type": "display_data"
    }
   ],
   "source": [
    "df_grid_load = get_open_data_elia_df(\"ods003\", \"2022-06-02\", \"2022-06-05\")\n",
    "df_grid_load = df_grid_load.loc[:,[\"datetime\", \"eliagridload\"]]\n",
    "#df_ts.set_index(\"datetime\", inplace=True)\n",
    "df_grid_load.plot(\n",
    "    x = df_grid_load.columns[0],\n",
    "    y = df_grid_load.columns[1],\n",
    "    title = \"Total Load in the Elia Grid\",\n",
    "    ylabel = \"MW\",\n",
    "    xlabel = \"Time\"\n",
    ")"
   ]
  },
  {
   "cell_type": "code",
   "execution_count": 10,
   "metadata": {},
   "outputs": [
    {
     "data": {
      "text/plain": [
       "array([<AxesSubplot:xlabel='Time'>, <AxesSubplot:xlabel='Time'>,\n",
       "       <AxesSubplot:xlabel='Time'>], dtype=object)"
      ]
     },
     "execution_count": 10,
     "metadata": {},
     "output_type": "execute_result"
    },
    {
     "data": {
      "image/png": "[encoded data removed]",
      "text/plain": [
       "<Figure size 432x288 with 3 Axes>"
      ]
     },
     "metadata": {
      "needs_background": "light"
     },
     "output_type": "display_data"
    }
   ],
   "source": [
    "df_weather = get_weather_forecast(\"2022-06-02\", \"2022-06-05\", latitude = \"50.85045\", longitude = \"4.34878\")\n",
    "#df_weather = df_weather.loc[:,[\"datetime\", \"eliagridload\"]]\n",
    "#df_ts.set_index(\"datetime\", inplace=True)\n",
    "df_weather.plot(\n",
    "    x = df_weather.columns[0],\n",
    "    y = [df_weather.columns[1],df_weather.columns[2],df_weather.columns[3]],\n",
    "    title = \"Total Load in the Elia Grid\",\n",
    "    xlabel = \"Time\",\n",
    "    subplots = True\n",
    ")"
   ]
  },
  {
   "cell_type": "markdown",
   "metadata": {},
   "source": [
    "**What we have achived so far**\n",
    "\n",
    "<img src=\"./data/Architecture_Layout Step 2.png\" alt=\"Drawing\" style=\"width: 700px;\"/>"
   ]
  },
  {
   "cell_type": "markdown",
   "metadata": {},
   "source": [
    "## 2. Timeseries Forecasting with Prophet (Facebook) 📈  "
   ]
  },
  {
   "cell_type": "markdown",
   "metadata": {},
   "source": [
    "The Prophet library is an open-source library designed for making forecasts for univariate time series datasets.\n",
    "It is a procedure for forecasting time series data based on an additive model where non-linear trends are fit with yearly, weekly, and daily seasonality, plus holiday effects. It works best with time series that have strong seasonal effects and several seasons of historical data. Prophet is robust to missing data and shifts in the trend, and typically handles outliers well."
   ]
  },
  {
   "cell_type": "markdown",
   "metadata": {},
   "source": [
    "**Documentation:** https://facebook.github.io/prophet/docs/quick_start.html"
   ]
  },
  {
   "cell_type": "markdown",
   "metadata": {},
   "source": [
    "#### Univariate Forecasting\n",
    "\n",
    "Tasks for you to do:\n",
    "\n",
    "1. Get familiar with the Prophet API and make a simple prediction -> check out the documentation\n",
    "2. Wrap everything together in a function"
   ]
  },
  {
   "cell_type": "code",
   "execution_count": 24,
   "metadata": {},
   "outputs": [],
   "source": [
    "# 1. Get familiar with the Prophet API and make a simple prediction -> check out the documentation\n",
    "\n",
    "import pandas \n",
    "from prophet import Prophet\n",
    "\n",
    "# read in the test_data_grid.csv file as a dataframe \n",
    "df = pd.read_csv('data/test_data_grid.csv', index_col=0)\n",
    "\n",
    "# have a quick look at the data\n",
    "df.head()\n",
    "\n",
    "# rename the columns of the dataframe to the Prophet convention\n",
    "df = df.rename(columns={\"DS\": \"ds\", \"Y\": \"y\"})\n",
    "\n",
    "# creating a Prophet object \n",
    "    ## optional parameters can be set here like:\n",
    "    ## seasonality, changepoints, uncertainty intervals etc. see help(Prophet) \n",
    "    ## e.g. weekly_seasonality = True\n",
    "m = Prophet()\n",
    "\n",
    "\n",
    "# Fit the data to the Prophet object\n",
    "    ## fit() methods expects a dataframe with the column heads ds and y\n",
    "m.fit(df)\n",
    "\n",
    "# Create the future dataframe and set the frequency to Hours\n",
    "     ## periods: Int number of periods to forecast forward. \n",
    "     ## freq: Any valid frequency for pd.date_range, such as 'M (month), 'D'(day) or 'H' (hour).\n",
    "future = m.make_future_dataframe(periods=365)\n",
    "future.tail()\n",
    "\n",
    "\n",
    "# Make the prediction\n",
    "     ## expects a dataframe with dates for predictions \n",
    "     ## (created above with make_future_dataframe)\n",
    "forecast = m.predict(future)\n",
    "forecast[['ds', 'yhat', 'yhat_lower', 'yhat_upper']].tail()\n",
    "\n",
    "    \n",
    "# Create some plots of the forecast\n",
    "    ## forecast plot\n",
    "fig1 = m.plot(forecast)\n",
    "\n",
    "    ## components plot\n",
    "fig2 = m.plot_components(forecast)\n"
   ]
  },
  {
   "cell_type": "code",
   "execution_count": 43,
   "metadata": {},
   "outputs": [
    {
     "data": {
      "text/html": [
       "<div>\n",
       "<style scoped>\n",
       "    .dataframe tbody tr th:only-of-type {\n",
       "        vertical-align: middle;\n",
       "    }\n",
       "\n",
       "    .dataframe tbody tr th {\n",
       "        vertical-align: top;\n",
       "    }\n",
       "\n",
       "    .dataframe thead th {\n",
       "        text-align: right;\n",
       "    }\n",
       "</style>\n",
       "<table border=\"1\" class=\"dataframe\">\n",
       "  <thead>\n",
       "    <tr style=\"text-align: right;\">\n",
       "      <th></th>\n",
       "      <th>datetime</th>\n",
       "      <th>eliagridload</th>\n",
       "    </tr>\n",
       "  </thead>\n",
       "  <tbody>\n",
       "    <tr>\n",
       "      <th>0</th>\n",
       "      <td>2022-06-02 00:00:00</td>\n",
       "      <td>7389.412</td>\n",
       "    </tr>\n",
       "    <tr>\n",
       "      <th>1</th>\n",
       "      <td>2022-06-02 00:15:00</td>\n",
       "      <td>7346.066</td>\n",
       "    </tr>\n",
       "    <tr>\n",
       "      <th>2</th>\n",
       "      <td>2022-06-02 00:30:00</td>\n",
       "      <td>7307.105</td>\n",
       "    </tr>\n",
       "    <tr>\n",
       "      <th>3</th>\n",
       "      <td>2022-06-02 00:45:00</td>\n",
       "      <td>7277.433</td>\n",
       "    </tr>\n",
       "    <tr>\n",
       "      <th>4</th>\n",
       "      <td>2022-06-02 01:00:00</td>\n",
       "      <td>7197.606</td>\n",
       "    </tr>\n",
       "    <tr>\n",
       "      <th>...</th>\n",
       "      <td>...</td>\n",
       "      <td>...</td>\n",
       "    </tr>\n",
       "    <tr>\n",
       "      <th>379</th>\n",
       "      <td>2022-06-05 22:45:00</td>\n",
       "      <td>6451.154</td>\n",
       "    </tr>\n",
       "    <tr>\n",
       "      <th>380</th>\n",
       "      <td>2022-06-05 23:00:00</td>\n",
       "      <td>6353.798</td>\n",
       "    </tr>\n",
       "    <tr>\n",
       "      <th>381</th>\n",
       "      <td>2022-06-05 23:15:00</td>\n",
       "      <td>6153.329</td>\n",
       "    </tr>\n",
       "    <tr>\n",
       "      <th>382</th>\n",
       "      <td>2022-06-05 23:30:00</td>\n",
       "      <td>6055.720</td>\n",
       "    </tr>\n",
       "    <tr>\n",
       "      <th>383</th>\n",
       "      <td>2022-06-05 23:45:00</td>\n",
       "      <td>6030.175</td>\n",
       "    </tr>\n",
       "  </tbody>\n",
       "</table>\n",
       "<p>384 rows × 2 columns</p>\n",
       "</div>"
      ],
      "text/plain": [
       "                datetime  eliagridload\n",
       "0    2022-06-02 00:00:00      7389.412\n",
       "1    2022-06-02 00:15:00      7346.066\n",
       "2    2022-06-02 00:30:00      7307.105\n",
       "3    2022-06-02 00:45:00      7277.433\n",
       "4    2022-06-02 01:00:00      7197.606\n",
       "..                   ...           ...\n",
       "379  2022-06-05 22:45:00      6451.154\n",
       "380  2022-06-05 23:00:00      6353.798\n",
       "381  2022-06-05 23:15:00      6153.329\n",
       "382  2022-06-05 23:30:00      6055.720\n",
       "383  2022-06-05 23:45:00      6030.175\n",
       "\n",
       "[384 rows x 2 columns]"
      ]
     },
     "execution_count": 43,
     "metadata": {},
     "output_type": "execute_result"
    }
   ],
   "source": [
    "df = pd.read_csv('data/test_data_grid.csv', index_col=0)\n",
    "df"
   ]
  },
  {
   "cell_type": "code",
   "execution_count": 46,
   "metadata": {},
   "outputs": [],
   "source": [
    "# 2. Wrap everything together in a function\n",
    "\n",
    "from prophet import Prophet\n",
    "import pandas as pd\n",
    "\n",
    "def run_forecast_univariate(df, periods):\n",
    "    \"\"\"\n",
    "    returns the univariate prophet forecast + two graphic objects (forecast & composite)\n",
    "\n",
    "    Parameters\n",
    "    ----------\n",
    "    df: DataFrame\n",
    "        a dataframe that includes the historical data\n",
    "    periods: int\n",
    "        the time steps to forecast\n",
    "\n",
    "    Returns\n",
    "    -------\n",
    "    forecast\n",
    "        a dataframe containing the foecast data\n",
    "    fig_forecast\n",
    "        a figure forecast to plot\n",
    "    fig_components\n",
    "        a figure components to plot\n",
    "    \n",
    "    \"\"\"\n",
    "\n",
    "    # 1. Get familiar with the Prophet API and make a simple prediction -> check out the documentation\n",
    "    \n",
    "    import pandas \n",
    "    from prophet import Prophet\n",
    "    \n",
    "    # read in the test_data_grid.csv file as a dataframe \n",
    "    df = pd.read_csv('data/test_data_grid.csv', index_col=0)\n",
    "    \n",
    "    # have a quick look at the data\n",
    "    df.head()\n",
    "    \n",
    "    # rename the columns of the dataframe to the Prophet convention\n",
    "    df = df.rename(columns={\"datetime\": \"ds\", \"eliagridload\": \"y\"})\n",
    "    \n",
    "    # creating a Prophet object \n",
    "        ## optional parameters can be set here like:\n",
    "        ## seasonality, changepoints, uncertainty intervals etc. see help(Prophet) \n",
    "        ## e.g. weekly_seasonality = True\n",
    "    m = Prophet()\n",
    "    \n",
    "    \n",
    "    # Fit the data to the Prophet object\n",
    "        ## fit() methods expects a dataframe with the column heads ds and y\n",
    "    m.fit(df)\n",
    "    \n",
    "    # Create the future dataframe and set the frequency to Hours\n",
    "         ## periods: Int number of periods to forecast forward. \n",
    "         ## freq: Any valid frequency for pd.date_range, such as 'M (month), 'D'(day) or 'H' (hour).\n",
    "    future = m.make_future_dataframe(periods=365)\n",
    "    future.tail()\n",
    "    \n",
    "    \n",
    "    # Make the prediction\n",
    "         ## expects a dataframe with dates for predictions \n",
    "         ## (created above with make_future_dataframe)\n",
    "    forecast = m.predict(future)\n",
    "    forecast[['ds', 'yhat', 'yhat_lower', 'yhat_upper']].tail()\n",
    "    \n",
    "        \n",
    "    # Create some plots of the forecast\n",
    "        ## forecast plot\n",
    "    fig_forecast = m.plot(forecast)\n",
    "    \n",
    "        ## components plot\n",
    "    fig_comp = m.plot_components(forecast)\n",
    "    \n",
    "    \n",
    "    return forecast, fig_forecast, fig_comp"
   ]
  },
  {
   "cell_type": "code",
   "execution_count": 47,
   "metadata": {},
   "outputs": [
    {
     "name": "stderr",
     "output_type": "stream",
     "text": [
      "INFO:prophet:Disabling yearly seasonality. Run prophet with yearly_seasonality=True to override this.\n",
      "INFO:prophet:Disabling weekly seasonality. Run prophet with weekly_seasonality=True to override this.\n",
      "/Users/ismaelmarcosmunoz/opt/anaconda3/envs/conda_timeseries_forecaster/lib/python3.8/site-packages/prophet/forecaster.py:896: FutureWarning: The frame.append method is deprecated and will be removed from pandas in a future version. Use pandas.concat instead.\n",
      "  components = components.append(new_comp)\n",
      "/Users/ismaelmarcosmunoz/opt/anaconda3/envs/conda_timeseries_forecaster/lib/python3.8/site-packages/prophet/forecaster.py:896: FutureWarning: The frame.append method is deprecated and will be removed from pandas in a future version. Use pandas.concat instead.\n",
      "  components = components.append(new_comp)\n",
      "/Users/ismaelmarcosmunoz/opt/anaconda3/envs/conda_timeseries_forecaster/lib/python3.8/site-packages/prophet/forecaster.py:896: FutureWarning: The frame.append method is deprecated and will be removed from pandas in a future version. Use pandas.concat instead.\n",
      "  components = components.append(new_comp)\n"
     ]
    },
    {
     "name": "stdout",
     "output_type": "stream",
     "text": [
      "Initial log joint probability = -5.06779\n",
      "    Iter      log prob        ||dx||      ||grad||       alpha      alpha0  # evals  Notes \n",
      "      99       774.836     0.0023638       75.8675       0.227           1      128   \n",
      "    Iter      log prob        ||dx||      ||grad||       alpha      alpha0  # evals  Notes \n",
      "     153       775.076   0.000143435       76.4248   2.013e-06       0.001      240  LS failed, Hessian reset \n",
      "     199        775.09   2.15691e-05         57.67      0.8192      0.8192      296   \n",
      "    Iter      log prob        ||dx||      ||grad||       alpha      alpha0  # evals  Notes \n",
      "     233        775.68   0.000572999       77.0939    6.13e-06       0.001      368  LS failed, Hessian reset \n",
      "     299       776.063   6.48627e-08       70.8874      0.3415      0.3415      460   \n",
      "    Iter      log prob        ||dx||      ||grad||       alpha      alpha0  # evals  Notes \n",
      "     304       776.063   6.49115e-09       72.9091      0.1084      0.1084      467   \n",
      "Optimization terminated normally: \n",
      "  Convergence detected: absolute parameter change was below tolerance\n"
     ]
    },
    {
     "name": "stderr",
     "output_type": "stream",
     "text": [
      "/Users/ismaelmarcosmunoz/opt/anaconda3/envs/conda_timeseries_forecaster/lib/python3.8/site-packages/prophet/forecaster.py:896: FutureWarning: The frame.append method is deprecated and will be removed from pandas in a future version. Use pandas.concat instead.\n",
      "  components = components.append(new_comp)\n"
     ]
    },
    {
     "data": {
      "text/plain": [
       "(                     ds          trend    yhat_lower    yhat_upper  \\\n",
       " 0   2022-06-02 00:00:00    7064.462583  6.203269e+03  7.761728e+03   \n",
       " 1   2022-06-02 00:15:00    7062.148151  6.144491e+03  7.738954e+03   \n",
       " 2   2022-06-02 00:30:00    7059.833718  6.065923e+03  7.691732e+03   \n",
       " 3   2022-06-02 00:45:00    7057.519286  6.151469e+03  7.745163e+03   \n",
       " 4   2022-06-02 01:00:00    7055.204853  6.080782e+03  7.706976e+03   \n",
       " ..                  ...            ...           ...           ...   \n",
       " 744 2023-06-01 23:45:00  287337.095086 -1.749554e+06  2.195160e+06   \n",
       " 745 2023-06-02 23:45:00  288113.695992 -1.762332e+06  2.200968e+06   \n",
       " 746 2023-06-03 23:45:00  288890.296899 -1.774088e+06  2.207915e+06   \n",
       " 747 2023-06-04 23:45:00  289666.897805 -1.781441e+06  2.215291e+06   \n",
       " 748 2023-06-05 23:45:00  290443.498711 -1.789132e+06  2.222448e+06   \n",
       " \n",
       "       trend_lower   trend_upper  additive_terms  additive_terms_lower  \\\n",
       " 0    7.064463e+03  7.064463e+03      -80.440740            -80.440740   \n",
       " 1    7.062148e+03  7.062148e+03     -112.180536           -112.180536   \n",
       " 2    7.059834e+03  7.059834e+03     -136.853307           -136.853307   \n",
       " 3    7.057519e+03  7.057519e+03     -154.075159           -154.075159   \n",
       " 4    7.055205e+03  7.055205e+03     -163.536475           -163.536475   \n",
       " ..            ...           ...             ...                   ...   \n",
       " 744 -1.749995e+06  2.193795e+06      -42.061510            -42.061510   \n",
       " 745 -1.763387e+06  2.201486e+06      -42.061510            -42.061510   \n",
       " 746 -1.773190e+06  2.208213e+06      -42.061510            -42.061510   \n",
       " 747 -1.781504e+06  2.214894e+06      -42.061510            -42.061510   \n",
       " 748 -1.789850e+06  2.221667e+06      -42.061510            -42.061510   \n",
       " \n",
       "      additive_terms_upper       daily  daily_lower  daily_upper  \\\n",
       " 0              -80.440740  -80.440740   -80.440740   -80.440740   \n",
       " 1             -112.180536 -112.180536  -112.180536  -112.180536   \n",
       " 2             -136.853307 -136.853307  -136.853307  -136.853307   \n",
       " 3             -154.075159 -154.075159  -154.075159  -154.075159   \n",
       " 4             -163.536475 -163.536475  -163.536475  -163.536475   \n",
       " ..                    ...         ...          ...          ...   \n",
       " 744            -42.061510  -42.061510   -42.061510   -42.061510   \n",
       " 745            -42.061510  -42.061510   -42.061510   -42.061510   \n",
       " 746            -42.061510  -42.061510   -42.061510   -42.061510   \n",
       " 747            -42.061510  -42.061510   -42.061510   -42.061510   \n",
       " 748            -42.061510  -42.061510   -42.061510   -42.061510   \n",
       " \n",
       "      multiplicative_terms  multiplicative_terms_lower  \\\n",
       " 0                     0.0                         0.0   \n",
       " 1                     0.0                         0.0   \n",
       " 2                     0.0                         0.0   \n",
       " 3                     0.0                         0.0   \n",
       " 4                     0.0                         0.0   \n",
       " ..                    ...                         ...   \n",
       " 744                   0.0                         0.0   \n",
       " 745                   0.0                         0.0   \n",
       " 746                   0.0                         0.0   \n",
       " 747                   0.0                         0.0   \n",
       " 748                   0.0                         0.0   \n",
       " \n",
       "      multiplicative_terms_upper           yhat  \n",
       " 0                           0.0    6984.021843  \n",
       " 1                           0.0    6949.967614  \n",
       " 2                           0.0    6922.980411  \n",
       " 3                           0.0    6903.444127  \n",
       " 4                           0.0    6891.668378  \n",
       " ..                          ...            ...  \n",
       " 744                         0.0  287295.033577  \n",
       " 745                         0.0  288071.634483  \n",
       " 746                         0.0  288848.235389  \n",
       " 747                         0.0  289624.836295  \n",
       " 748                         0.0  290401.437201  \n",
       " \n",
       " [749 rows x 16 columns],\n",
       " <Figure size 720x432 with 1 Axes>,\n",
       " <Figure size 648x432 with 2 Axes>)"
      ]
     },
     "execution_count": 47,
     "metadata": {},
     "output_type": "execute_result"
    },
    {
     "data": {
      "image/png": "[encoded data removed]",
      "text/plain": [
       "<Figure size 720x432 with 1 Axes>"
      ]
     },
     "metadata": {},
     "output_type": "display_data"
    },
    {
     "data": {
      "image/png": "[encoded data removed]",
      "text/plain": [
       "<Figure size 648x432 with 2 Axes>"
      ]
     },
     "metadata": {},
     "output_type": "display_data"
    }
   ],
   "source": [
    "run_forecast_univariate(df = df, periods = 10)"
   ]
  },
  {
   "cell_type": "markdown",
   "metadata": {},
   "source": [
    "**Test Univariate Forecast**"
   ]
  },
  {
   "cell_type": "code",
   "execution_count": 48,
   "metadata": {},
   "outputs": [
    {
     "name": "stderr",
     "output_type": "stream",
     "text": [
      "INFO:prophet:Disabling yearly seasonality. Run prophet with yearly_seasonality=True to override this.\n",
      "INFO:prophet:Disabling weekly seasonality. Run prophet with weekly_seasonality=True to override this.\n",
      "/Users/ismaelmarcosmunoz/opt/anaconda3/envs/conda_timeseries_forecaster/lib/python3.8/site-packages/prophet/forecaster.py:896: FutureWarning: The frame.append method is deprecated and will be removed from pandas in a future version. Use pandas.concat instead.\n",
      "  components = components.append(new_comp)\n",
      "/Users/ismaelmarcosmunoz/opt/anaconda3/envs/conda_timeseries_forecaster/lib/python3.8/site-packages/prophet/forecaster.py:896: FutureWarning: The frame.append method is deprecated and will be removed from pandas in a future version. Use pandas.concat instead.\n",
      "  components = components.append(new_comp)\n",
      "/Users/ismaelmarcosmunoz/opt/anaconda3/envs/conda_timeseries_forecaster/lib/python3.8/site-packages/prophet/forecaster.py:896: FutureWarning: The frame.append method is deprecated and will be removed from pandas in a future version. Use pandas.concat instead.\n",
      "  components = components.append(new_comp)\n"
     ]
    },
    {
     "name": "stdout",
     "output_type": "stream",
     "text": [
      "Initial log joint probability = -5.06779\n",
      "    Iter      log prob        ||dx||      ||grad||       alpha      alpha0  # evals  Notes \n",
      "      99       774.836     0.0023638       75.8675       0.227           1      128   \n",
      "    Iter      log prob        ||dx||      ||grad||       alpha      alpha0  # evals  Notes \n",
      "     153       775.076   0.000143435       76.4248   2.013e-06       0.001      240  LS failed, Hessian reset \n",
      "     199        775.09   2.15691e-05         57.67      0.8192      0.8192      296   \n",
      "    Iter      log prob        ||dx||      ||grad||       alpha      alpha0  # evals  Notes \n",
      "     233        775.68   0.000572999       77.0939    6.13e-06       0.001      368  LS failed, Hessian reset \n",
      "     299       776.063   6.48627e-08       70.8874      0.3415      0.3415      460   \n",
      "    Iter      log prob        ||dx||      ||grad||       alpha      alpha0  # evals  Notes \n",
      "     304       776.063   6.49115e-09       72.9091      0.1084      0.1084      467   \n",
      "Optimization terminated normally: \n",
      "  Convergence detected: absolute parameter change was below tolerance\n",
      "Figure(720x432)\n"
     ]
    },
    {
     "name": "stderr",
     "output_type": "stream",
     "text": [
      "/Users/ismaelmarcosmunoz/opt/anaconda3/envs/conda_timeseries_forecaster/lib/python3.8/site-packages/prophet/forecaster.py:896: FutureWarning: The frame.append method is deprecated and will be removed from pandas in a future version. Use pandas.concat instead.\n",
      "  components = components.append(new_comp)\n"
     ]
    },
    {
     "data": {
      "image/png": "[encoded data removed]",
      "text/plain": [
       "<Figure size 720x432 with 1 Axes>"
      ]
     },
     "metadata": {},
     "output_type": "display_data"
    },
    {
     "data": {
      "image/png": "[encoded data removed]",
      "text/plain": [
       "<Figure size 648x432 with 2 Axes>"
      ]
     },
     "metadata": {},
     "output_type": "display_data"
    }
   ],
   "source": [
    "df_grid_load = get_open_data_elia_df(\"ods003\", \"2022-06-02\", \"2022-06-05\")\n",
    "df_grid_load = df_grid_load.loc[:,[\"datetime\", \"eliagridload\"]]\n",
    "forecast, fig_forecast, fig_comp = run_forecast_univariate(df_grid_load, 100)\n",
    "\n",
    "print(fig_forecast)"
   ]
  },
  {
   "cell_type": "markdown",
   "metadata": {},
   "source": [
    "**What we have achived so far**\n",
    "\n",
    "<img src=\"./data/Architecture_Layout Step 3_5.png\" alt=\"Drawing\" style=\"width: 700px;\"/>"
   ]
  },
  {
   "cell_type": "markdown",
   "metadata": {},
   "source": [
    "#### Multivariate Forecasting"
   ]
  },
  {
   "cell_type": "markdown",
   "metadata": {},
   "source": [
    "For multivariate forecasting we need additional features.   \n",
    "In this example we **include the weather forecast** (solar radiation, wind speed and temperature) **as additional features**.  \n",
    "Therefore we need to combine the historical data with the weather data. This is done with the function *prepare_data_for_mv_fc*"
   ]
  },
  {
   "cell_type": "code",
   "execution_count": 21,
   "metadata": {},
   "outputs": [],
   "source": [
    "from prophet import Prophet\n",
    "from prophet.utilities import regressor_coefficients\n",
    "from datetime import timedelta\n",
    "import pandas as pd\n",
    "\n",
    "from prophet.utilities import regressor_coefficients\n",
    "from modules.fetch_data import get_weather_forecast, get_open_data_elia_df\n",
    "\n",
    "\n",
    "def prepare_data_for_mv_fc(dataset, start_date, end_date, solar, wind, temp, lat,long):\n",
    "    \"\"\"\n",
    "    Prepares and merges weather data with historical data for multivariate forecast with prophet\n",
    "\n",
    "    Parameters\n",
    "    ----------\n",
    "    dataset: str\n",
    "        the selected dataset identifier from the Elia Open Data Platform\n",
    "    start_date: str\n",
    "        The start date of the selected dataset, Format: \"YYYY-MM-DD\"\n",
    "    end_date: str\n",
    "        The end date of the selected dataset, Format: \"YYYY-MM-DD\"    \n",
    "    solar: bool\n",
    "        if True, solar data will be added as additional regressor\n",
    "    wind: bool\n",
    "        if True, wind data will be added as additional regressor\n",
    "    temp: bool\n",
    "        if True, temp data will be added as additional regressor\n",
    "    lat: str\n",
    "        The latitude value (Geo location) of the city for the weather forecast\n",
    "    long: str\n",
    "        The longitude value (Geo location) of the city for the weather forecast\n",
    "\n",
    "\n",
    "    Returns\n",
    "    -------\n",
    "    pd.Dataframe\n",
    "        a dataframe containing the merged historical and weather data\n",
    "    \n",
    "\n",
    "    \"\"\"\n",
    "    # catch open data\n",
    "    if (dataset == \"ods003\"): # total load\n",
    "        df = get_open_data_elia_df(dataset,start_date, end_date) \n",
    "        df.set_index(df[\"datetime\"], inplace = True)\n",
    "        df = df.resample(\"H\").mean()\n",
    "        df.reset_index(inplace = True)\n",
    "        \n",
    "    else:  # for solar & wind \n",
    "        df = get_open_data_elia_df(dataset,start_date, end_date) \n",
    "        df = df.groupby(\"datetime\").sum()\n",
    "        df = df.resample(\"H\").mean()\n",
    "        df.reset_index(inplace = True)\n",
    "        df = df.loc[:,[\"datetime\", \"mostrecentforecast\"]]\n",
    "        df[\"datetime\"] = pd.to_datetime(df[\"datetime\"]).dt.tz_localize(None)\n",
    "\n",
    "    # specifying variables\n",
    "    start_date= df[\"datetime\"].iloc[0]\n",
    "    end_date = df[\"datetime\"].iloc[-1]\n",
    "    latitude = lat\n",
    "    longitude = long\n",
    "\n",
    "    # get weather forecast\n",
    "    df_weather = get_weather_forecast(start_date, end_date, latitude, longitude)\n",
    "    columns = []\n",
    "    if solar:\n",
    "        columns.append(\"SolarDownwardRadiation\")\n",
    "    if wind:  \n",
    "        columns.append(\"WindSpeed\")\n",
    "    if temp:\n",
    "        columns.append(\"Temperature\")\n",
    "\n",
    "    columns.append(\"datetime\")\n",
    "    df_weather = df_weather.loc[:,columns]    \n",
    "    df_merged = df.merge(df_weather, on = \"datetime\")\n",
    "\n",
    "    df_merged.rename(columns = {df.columns[0]: \"ds\", df.columns[1]:\"y\"}, inplace = True)\n",
    "\n",
    "    return df_merged"
   ]
  },
  {
   "cell_type": "markdown",
   "metadata": {},
   "source": [
    "**Task:**\n",
    "\n",
    "Add two lines of code to the *run_forecast_multivariate* function to add the additional columns/features to the prophet model."
   ]
  },
  {
   "cell_type": "code",
   "execution_count": 22,
   "metadata": {},
   "outputs": [],
   "source": [
    "def run_forecast_multivariate(df_merged, lat, long, forecast_horizon):\n",
    "\n",
    "    \"\"\"\n",
    "    returns the multivariate prophet forecast + two graphic objects (forecast & components) + regressor coeffiecnt dataframe\n",
    "\n",
    "    Parameters\n",
    "    ----------\n",
    "    df_merged: DataFrame\n",
    "        a dataframe that includes the historical data + \n",
    "    lat:\n",
    "        latitude value of geo localization for weather forecast\n",
    "    long:\n",
    "        longitude value of geo localization for weather forecast\n",
    "    forecast_horizon: int\n",
    "        the time steps to forecast\n",
    "\n",
    "    Returns\n",
    "    -------\n",
    "    forecast\n",
    "        a dataframe containing the foecast data\n",
    "    fig_forecast\n",
    "        a figure forecast to plot\n",
    "    fig_components\n",
    "        a figure components to plot\n",
    "    reg_coef\n",
    "        a dataframe with the coefficiencts of the additional regressors\n",
    "\n",
    "    \"\"\"\n",
    "    # date calculation\n",
    "    end_date = df_merged[\"ds\"].sort_values().iloc[-1] # last date of the historical data    \n",
    "    start_date_forecast = end_date + timedelta(hours = 1) # first date for the forecast\n",
    "    end_date_forecast = start_date_forecast + timedelta(hours = forecast_horizon) # last date for the forecast\n",
    "\n",
    "    # get weather forecast\n",
    "    weather_forecast = get_weather_forecast(start_date_forecast, end_date_forecast, lat, long)\n",
    "    \n",
    "    # creating Prophet Object\n",
    "    m = Prophet() \n",
    "    \n",
    "    # creating an addiitional regressor for each additional column that is provided\n",
    "        ## create a for loop that loops through the additional columns of df_merged\n",
    "        # use the .add_regressor() function to add the additional columns to the prophet model\n",
    "    \n",
    "    # <YOUR CODE>\n",
    "\n",
    "    # fit() methods expects a dataframe with the column heads ds and y\n",
    "    # fits the prophet model to the data\n",
    "    m.fit(df_merged)\n",
    "\n",
    "    # Definition of forecast range\n",
    "    ## periods: Int number of periods to forecast forward. \n",
    "    ## req: Any valid frequency for pd.date_range, such as 'D' or 'M'.\n",
    "    future = m.make_future_dataframe(periods=forecast_horizon, freq = \"H\")\n",
    "    future = future.merge(weather_forecast, left_on= \"ds\", right_on = \"datetime\")\n",
    "\n",
    "    # Prediction\n",
    "    ## expects a dataframe with dates for predictions \n",
    "    ## (created above with make_future_dataframe)\n",
    "    forecast = m.predict(future)\n",
    "\n",
    "    # plotting\n",
    "    fig_forecast = m.plot(forecast)\n",
    "    fig_components = m.plot_components(forecast)\n",
    "\n",
    "    reg_coef = regressor_coefficients(m)\n",
    "    \n",
    "    return forecast, fig_forecast, fig_components, reg_coef\n"
   ]
  },
  {
   "cell_type": "markdown",
   "metadata": {},
   "source": [
    "**Test the Multivariate Forecast Function**"
   ]
  },
  {
   "cell_type": "code",
   "execution_count": null,
   "metadata": {},
   "outputs": [],
   "source": [
    "lat = \"50.85045\"\n",
    "long = \"4.34878\"\n",
    "forecast_horizon = 100\n",
    "\n",
    "df_merged = prepare_data_for_mv_fc(\"ods003\", \"2022-06-02\", \"2022-06-05\", True, True, False, lat, long)\n",
    "forecast, fig_forecast, fig_components, reg_coef = run_forecast_multivariate(df_merged, lat, long, forecast_horizon)\n",
    "\n",
    "print(fig_forecast)"
   ]
  },
  {
   "cell_type": "markdown",
   "metadata": {},
   "source": [
    "**What we have achived so far**\n",
    "\n",
    "<img src=\"./data/Architecture_Layout Step 3.png\" alt=\"Drawing\" style=\"width: 700px;\"/>"
   ]
  },
  {
   "cell_type": "markdown",
   "metadata": {},
   "source": [
    "## Putting everything together in a Web App with Streamlit 🚀\n",
    "\n",
    "Let's move to Visual Studio Code and implement the functions and create the layout."
   ]
  },
  {
   "cell_type": "markdown",
   "metadata": {},
   "source": [
    "Therefore we have organised the described functions above in seperate .py files\n",
    "\n",
    "<img src=\"./data/Architecture_Layout Step 4.png\" alt=\"Drawing\" style=\"width: 700px;\"/>"
   ]
  },
  {
   "cell_type": "markdown",
   "metadata": {},
   "source": []
  }
 ],
 "metadata": {
  "kernelspec": {
   "display_name": "Python 3 (ipykernel)",
   "language": "python",
   "name": "python3"
  },
  "language_info": {
   "codemirror_mode": {
    "name": "ipython",
    "version": 3
   },
   "file_extension": ".py",
   "mimetype": "text/x-python",
   "name": "python",
   "nbconvert_exporter": "python",
   "pygments_lexer": "ipython3",
   "version": "3.8.13"
  },
  "vscode": {
   "interpreter": {
    "hash": "15dee1ae548a31bd6fcec8e11ebec5ccd10918702ba73c09fa1edf23ea3993b3"
   }
  }
 },
 "nbformat": 4,
 "nbformat_minor": 4
}